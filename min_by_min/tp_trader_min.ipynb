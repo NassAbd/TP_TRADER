{
 "cells": [
  {
   "cell_type": "markdown",
   "id": "4de67a42",
   "metadata": {},
   "source": [
    "# Abdallah Nassur | Lucas Taranne | Amine Belhaimeur | Amine Cherif"
   ]
  },
  {
   "cell_type": "code",
   "execution_count": null,
   "id": "b9fdf5e4",
   "metadata": {},
   "outputs": [],
   "source": [
    "!pip install numpy pandas gym tensorflow scikit-learn matplotlib"
   ]
  },
  {
   "cell_type": "code",
   "execution_count": 1,
   "id": "f6085035",
   "metadata": {},
   "outputs": [],
   "source": [
    "from tensorflow.keras.preprocessing.sequence import TimeseriesGenerator\n",
    "from sklearn.preprocessing import MinMaxScaler\n",
    "import numpy as np\n",
    "import pandas as pd\n",
    "from tensorflow.keras.models import Sequential\n",
    "from tensorflow.keras.layers import LSTM, Dense, Dropout, Conv1D, MaxPooling1D\n",
    "from tensorflow.keras.callbacks import EarlyStopping, ModelCheckpoint, ReduceLROnPlateau\n",
    "import matplotlib.pyplot as plt\n",
    "import pickle\n",
    "import joblib"
   ]
  },
  {
   "cell_type": "code",
   "execution_count": 3,
   "id": "48fd6426",
   "metadata": {},
   "outputs": [
    {
     "data": {
      "text/html": [
       "<div>\n",
       "<style scoped>\n",
       "    .dataframe tbody tr th:only-of-type {\n",
       "        vertical-align: middle;\n",
       "    }\n",
       "\n",
       "    .dataframe tbody tr th {\n",
       "        vertical-align: top;\n",
       "    }\n",
       "\n",
       "    .dataframe thead th {\n",
       "        text-align: right;\n",
       "    }\n",
       "</style>\n",
       "<table border=\"1\" class=\"dataframe\">\n",
       "  <thead>\n",
       "    <tr style=\"text-align: right;\">\n",
       "      <th></th>\n",
       "      <th>timestamp</th>\n",
       "      <th>open</th>\n",
       "      <th>high</th>\n",
       "      <th>low</th>\n",
       "      <th>close</th>\n",
       "      <th>volume</th>\n",
       "    </tr>\n",
       "  </thead>\n",
       "  <tbody>\n",
       "    <tr>\n",
       "      <th>0</th>\n",
       "      <td>2022-09-30 04:00:00</td>\n",
       "      <td>143.59</td>\n",
       "      <td>143.59</td>\n",
       "      <td>143.10</td>\n",
       "      <td>143.49</td>\n",
       "      <td>4060</td>\n",
       "    </tr>\n",
       "    <tr>\n",
       "      <th>1</th>\n",
       "      <td>2022-09-30 04:01:00</td>\n",
       "      <td>143.49</td>\n",
       "      <td>143.49</td>\n",
       "      <td>143.38</td>\n",
       "      <td>143.38</td>\n",
       "      <td>481</td>\n",
       "    </tr>\n",
       "    <tr>\n",
       "      <th>2</th>\n",
       "      <td>2022-09-30 04:02:00</td>\n",
       "      <td>143.22</td>\n",
       "      <td>143.22</td>\n",
       "      <td>143.22</td>\n",
       "      <td>143.22</td>\n",
       "      <td>107</td>\n",
       "    </tr>\n",
       "    <tr>\n",
       "      <th>3</th>\n",
       "      <td>2022-09-30 04:03:00</td>\n",
       "      <td>143.39</td>\n",
       "      <td>143.39</td>\n",
       "      <td>143.21</td>\n",
       "      <td>143.23</td>\n",
       "      <td>2811</td>\n",
       "    </tr>\n",
       "    <tr>\n",
       "      <th>4</th>\n",
       "      <td>2022-09-30 04:04:00</td>\n",
       "      <td>143.30</td>\n",
       "      <td>143.32</td>\n",
       "      <td>143.30</td>\n",
       "      <td>143.32</td>\n",
       "      <td>309</td>\n",
       "    </tr>\n",
       "  </tbody>\n",
       "</table>\n",
       "</div>"
      ],
      "text/plain": [
       "             timestamp    open    high     low   close  volume\n",
       "0  2022-09-30 04:00:00  143.59  143.59  143.10  143.49    4060\n",
       "1  2022-09-30 04:01:00  143.49  143.49  143.38  143.38     481\n",
       "2  2022-09-30 04:02:00  143.22  143.22  143.22  143.22     107\n",
       "3  2022-09-30 04:03:00  143.39  143.39  143.21  143.23    2811\n",
       "4  2022-09-30 04:04:00  143.30  143.32  143.30  143.32     309"
      ]
     },
     "execution_count": 3,
     "metadata": {},
     "output_type": "execute_result"
    }
   ],
   "source": [
    "# import df from csv\n",
    "# https://firstratedata.com/free-intraday-data\n",
    "df = pd.read_csv('AAPL/AAPL_1min_firstratedata.csv')\n",
    "df.head()"
   ]
  },
  {
   "cell_type": "code",
   "execution_count": 4,
   "id": "24d176d7",
   "metadata": {},
   "outputs": [
    {
     "data": {
      "text/plain": [
       "(193829, 6)"
      ]
     },
     "execution_count": 4,
     "metadata": {},
     "output_type": "execute_result"
    }
   ],
   "source": [
    "# display shape\n",
    "df.shape"
   ]
  },
  {
   "cell_type": "code",
   "execution_count": 6,
   "id": "51d95edb",
   "metadata": {},
   "outputs": [],
   "source": [
    "# features and target\n",
    "features = ['open', 'high', 'low', 'volume']\n",
    "target = ['close']\n",
    "\n",
    "X = df[features].values\n",
    "y = df[target].values"
   ]
  },
  {
   "cell_type": "code",
   "execution_count": 7,
   "id": "66128e3e",
   "metadata": {},
   "outputs": [],
   "source": [
    "# Normalisation\n",
    "scaler_X = MinMaxScaler()\n",
    "scaler_y = MinMaxScaler()\n",
    "\n",
    "X_scaled = scaler_X.fit_transform(X)\n",
    "y_scaled = scaler_y.fit_transform(y)\n",
    "\n",
    "# save scaler\n",
    "with open('scaler_X.pkl', 'wb') as f:\n",
    "    pickle.dump(scaler_X, f)\n",
    "with open('scaler_y.pkl', 'wb') as f:\n",
    "    pickle.dump(scaler_y, f)"
   ]
  },
  {
   "cell_type": "code",
   "execution_count": 8,
   "id": "7957ce9d",
   "metadata": {},
   "outputs": [],
   "source": [
    "# creating train and test datasets\n",
    "look_back = 20 # number of previous minutes to consider\n",
    "\n",
    "train_size = int(len(X_scaled) * 0.8)\n",
    "X_train, y_train = X_scaled[:train_size], y_scaled[:train_size]\n",
    "X_test, y_test = X_scaled[train_size:], y_scaled[train_size:]\n",
    "\n",
    "train_generator = TimeseriesGenerator(\n",
    "    X_train, y_train,\n",
    "    length=look_back,\n",
    "    batch_size=32\n",
    ")\n",
    "\n",
    "test_generator = TimeseriesGenerator(\n",
    "    X_test, y_test,\n",
    "    length=look_back,\n",
    "    batch_size=1\n",
    ")"
   ]
  },
  {
   "cell_type": "code",
   "execution_count": 9,
   "id": "88cd8f0a",
   "metadata": {},
   "outputs": [
    {
     "name": "stdout",
     "output_type": "stream",
     "text": [
      "Epoch 1/20\n"
     ]
    },
    {
     "name": "stderr",
     "output_type": "stream",
     "text": [
      "c:\\Users\\abdal\\anaconda3\\envs\\titanic_env\\lib\\site-packages\\keras\\src\\layers\\rnn\\rnn.py:200: UserWarning: Do not pass an `input_shape`/`input_dim` argument to a layer. When using Sequential models, prefer using an `Input(shape)` object as the first layer in the model instead.\n",
      "  super().__init__(**kwargs)\n",
      "c:\\Users\\abdal\\anaconda3\\envs\\titanic_env\\lib\\site-packages\\keras\\src\\trainers\\data_adapters\\py_dataset_adapter.py:121: UserWarning: Your `PyDataset` class should call `super().__init__(**kwargs)` in its constructor. `**kwargs` can include `workers`, `use_multiprocessing`, `max_queue_size`. Do not pass these arguments to `fit()`, as they will be ignored.\n",
      "  self._warn_if_super_not_called()\n"
     ]
    },
    {
     "name": "stdout",
     "output_type": "stream",
     "text": [
      "\u001b[1m4842/4846\u001b[0m \u001b[32m━━━━━━━━━━━━━━━━━━━\u001b[0m\u001b[37m━\u001b[0m \u001b[1m0s\u001b[0m 11ms/step - loss: 0.0019"
     ]
    },
    {
     "name": "stderr",
     "output_type": "stream",
     "text": [
      "WARNING:absl:You are saving your model as an HDF5 file via `model.save()` or `keras.saving.save_model(model)`. This file format is considered legacy. We recommend using instead the native Keras format, e.g. `model.save('my_model.keras')` or `keras.saving.save_model(model, 'my_model.keras')`. \n"
     ]
    },
    {
     "name": "stdout",
     "output_type": "stream",
     "text": [
      "\u001b[1m4846/4846\u001b[0m \u001b[32m━━━━━━━━━━━━━━━━━━━━\u001b[0m\u001b[37m\u001b[0m \u001b[1m57s\u001b[0m 11ms/step - loss: 0.0019 - val_loss: 1.6334e-04 - learning_rate: 0.0010\n",
      "Epoch 2/20\n",
      "\u001b[1m4846/4846\u001b[0m \u001b[32m━━━━━━━━━━━━━━━━━━━━\u001b[0m\u001b[37m\u001b[0m \u001b[1m56s\u001b[0m 12ms/step - loss: 5.5297e-05 - val_loss: 2.0872e-04 - learning_rate: 0.0010\n",
      "Epoch 3/20\n",
      "\u001b[1m4844/4846\u001b[0m \u001b[32m━━━━━━━━━━━━━━━━━━━\u001b[0m\u001b[37m━\u001b[0m \u001b[1m0s\u001b[0m 13ms/step - loss: 4.8322e-05"
     ]
    },
    {
     "name": "stderr",
     "output_type": "stream",
     "text": [
      "WARNING:absl:You are saving your model as an HDF5 file via `model.save()` or `keras.saving.save_model(model)`. This file format is considered legacy. We recommend using instead the native Keras format, e.g. `model.save('my_model.keras')` or `keras.saving.save_model(model, 'my_model.keras')`. \n"
     ]
    },
    {
     "name": "stdout",
     "output_type": "stream",
     "text": [
      "\u001b[1m4846/4846\u001b[0m \u001b[32m━━━━━━━━━━━━━━━━━━━━\u001b[0m\u001b[37m\u001b[0m \u001b[1m65s\u001b[0m 13ms/step - loss: 4.8330e-05 - val_loss: 8.7171e-06 - learning_rate: 0.0010\n",
      "Epoch 4/20\n",
      "\u001b[1m4846/4846\u001b[0m \u001b[32m━━━━━━━━━━━━━━━━━━━━\u001b[0m\u001b[37m\u001b[0m \u001b[1m0s\u001b[0m 13ms/step - loss: 6.0767e-05"
     ]
    },
    {
     "name": "stderr",
     "output_type": "stream",
     "text": [
      "WARNING:absl:You are saving your model as an HDF5 file via `model.save()` or `keras.saving.save_model(model)`. This file format is considered legacy. We recommend using instead the native Keras format, e.g. `model.save('my_model.keras')` or `keras.saving.save_model(model, 'my_model.keras')`. \n"
     ]
    },
    {
     "name": "stdout",
     "output_type": "stream",
     "text": [
      "\u001b[1m4846/4846\u001b[0m \u001b[32m━━━━━━━━━━━━━━━━━━━━\u001b[0m\u001b[37m\u001b[0m \u001b[1m66s\u001b[0m 14ms/step - loss: 6.0766e-05 - val_loss: 3.6431e-06 - learning_rate: 0.0010\n",
      "Epoch 5/20\n",
      "\u001b[1m4846/4846\u001b[0m \u001b[32m━━━━━━━━━━━━━━━━━━━━\u001b[0m\u001b[37m\u001b[0m \u001b[1m69s\u001b[0m 14ms/step - loss: 5.0170e-05 - val_loss: 5.3220e-06 - learning_rate: 0.0010\n",
      "Epoch 6/20\n",
      "\u001b[1m4846/4846\u001b[0m \u001b[32m━━━━━━━━━━━━━━━━━━━━\u001b[0m\u001b[37m\u001b[0m \u001b[1m75s\u001b[0m 15ms/step - loss: 4.4578e-06 - val_loss: 2.0605e-05 - learning_rate: 2.0000e-04\n",
      "Epoch 7/20\n",
      "\u001b[1m4844/4846\u001b[0m \u001b[32m━━━━━━━━━━━━━━━━━━━\u001b[0m\u001b[37m━\u001b[0m \u001b[1m0s\u001b[0m 13ms/step - loss: 5.9525e-06"
     ]
    },
    {
     "name": "stderr",
     "output_type": "stream",
     "text": [
      "WARNING:absl:You are saving your model as an HDF5 file via `model.save()` or `keras.saving.save_model(model)`. This file format is considered legacy. We recommend using instead the native Keras format, e.g. `model.save('my_model.keras')` or `keras.saving.save_model(model, 'my_model.keras')`. \n"
     ]
    },
    {
     "name": "stdout",
     "output_type": "stream",
     "text": [
      "\u001b[1m4846/4846\u001b[0m \u001b[32m━━━━━━━━━━━━━━━━━━━━\u001b[0m\u001b[37m\u001b[0m \u001b[1m67s\u001b[0m 14ms/step - loss: 5.9522e-06 - val_loss: 2.2774e-06 - learning_rate: 2.0000e-04\n",
      "Epoch 8/20\n",
      "\u001b[1m4843/4846\u001b[0m \u001b[32m━━━━━━━━━━━━━━━━━━━\u001b[0m\u001b[37m━\u001b[0m \u001b[1m0s\u001b[0m 13ms/step - loss: 3.5933e-06"
     ]
    },
    {
     "name": "stderr",
     "output_type": "stream",
     "text": [
      "WARNING:absl:You are saving your model as an HDF5 file via `model.save()` or `keras.saving.save_model(model)`. This file format is considered legacy. We recommend using instead the native Keras format, e.g. `model.save('my_model.keras')` or `keras.saving.save_model(model, 'my_model.keras')`. \n"
     ]
    },
    {
     "name": "stdout",
     "output_type": "stream",
     "text": [
      "\u001b[1m4846/4846\u001b[0m \u001b[32m━━━━━━━━━━━━━━━━━━━━\u001b[0m\u001b[37m\u001b[0m \u001b[1m67s\u001b[0m 14ms/step - loss: 3.5933e-06 - val_loss: 2.2324e-06 - learning_rate: 4.0000e-05\n",
      "Epoch 9/20\n",
      "\u001b[1m4843/4846\u001b[0m \u001b[32m━━━━━━━━━━━━━━━━━━━\u001b[0m\u001b[37m━\u001b[0m \u001b[1m0s\u001b[0m 13ms/step - loss: 3.5499e-06"
     ]
    },
    {
     "name": "stderr",
     "output_type": "stream",
     "text": [
      "WARNING:absl:You are saving your model as an HDF5 file via `model.save()` or `keras.saving.save_model(model)`. This file format is considered legacy. We recommend using instead the native Keras format, e.g. `model.save('my_model.keras')` or `keras.saving.save_model(model, 'my_model.keras')`. \n"
     ]
    },
    {
     "name": "stdout",
     "output_type": "stream",
     "text": [
      "\u001b[1m4846/4846\u001b[0m \u001b[32m━━━━━━━━━━━━━━━━━━━━\u001b[0m\u001b[37m\u001b[0m \u001b[1m65s\u001b[0m 13ms/step - loss: 3.5499e-06 - val_loss: 2.1731e-06 - learning_rate: 4.0000e-05\n",
      "Epoch 10/20\n",
      "\u001b[1m4844/4846\u001b[0m \u001b[32m━━━━━━━━━━━━━━━━━━━\u001b[0m\u001b[37m━\u001b[0m \u001b[1m0s\u001b[0m 13ms/step - loss: 3.1362e-06"
     ]
    },
    {
     "name": "stderr",
     "output_type": "stream",
     "text": [
      "WARNING:absl:You are saving your model as an HDF5 file via `model.save()` or `keras.saving.save_model(model)`. This file format is considered legacy. We recommend using instead the native Keras format, e.g. `model.save('my_model.keras')` or `keras.saving.save_model(model, 'my_model.keras')`. \n"
     ]
    },
    {
     "name": "stdout",
     "output_type": "stream",
     "text": [
      "\u001b[1m4846/4846\u001b[0m \u001b[32m━━━━━━━━━━━━━━━━━━━━\u001b[0m\u001b[37m\u001b[0m \u001b[1m67s\u001b[0m 14ms/step - loss: 3.1363e-06 - val_loss: 2.0506e-06 - learning_rate: 8.0000e-06\n",
      "Epoch 11/20\n",
      "\u001b[1m4845/4846\u001b[0m \u001b[32m━━━━━━━━━━━━━━━━━━━\u001b[0m\u001b[37m━\u001b[0m \u001b[1m0s\u001b[0m 14ms/step - loss: 3.4643e-06"
     ]
    },
    {
     "name": "stderr",
     "output_type": "stream",
     "text": [
      "WARNING:absl:You are saving your model as an HDF5 file via `model.save()` or `keras.saving.save_model(model)`. This file format is considered legacy. We recommend using instead the native Keras format, e.g. `model.save('my_model.keras')` or `keras.saving.save_model(model, 'my_model.keras')`. \n"
     ]
    },
    {
     "name": "stdout",
     "output_type": "stream",
     "text": [
      "\u001b[1m4846/4846\u001b[0m \u001b[32m━━━━━━━━━━━━━━━━━━━━\u001b[0m\u001b[37m\u001b[0m \u001b[1m70s\u001b[0m 14ms/step - loss: 3.4643e-06 - val_loss: 1.9822e-06 - learning_rate: 8.0000e-06\n",
      "Epoch 12/20\n",
      "\u001b[1m4844/4846\u001b[0m \u001b[32m━━━━━━━━━━━━━━━━━━━\u001b[0m\u001b[37m━\u001b[0m \u001b[1m0s\u001b[0m 13ms/step - loss: 3.1319e-06"
     ]
    },
    {
     "name": "stderr",
     "output_type": "stream",
     "text": [
      "WARNING:absl:You are saving your model as an HDF5 file via `model.save()` or `keras.saving.save_model(model)`. This file format is considered legacy. We recommend using instead the native Keras format, e.g. `model.save('my_model.keras')` or `keras.saving.save_model(model, 'my_model.keras')`. \n"
     ]
    },
    {
     "name": "stdout",
     "output_type": "stream",
     "text": [
      "\u001b[1m4846/4846\u001b[0m \u001b[32m━━━━━━━━━━━━━━━━━━━━\u001b[0m\u001b[37m\u001b[0m \u001b[1m64s\u001b[0m 13ms/step - loss: 3.1320e-06 - val_loss: 1.9742e-06 - learning_rate: 1.6000e-06\n",
      "Epoch 13/20\n",
      "\u001b[1m4844/4846\u001b[0m \u001b[32m━━━━━━━━━━━━━━━━━━━\u001b[0m\u001b[37m━\u001b[0m \u001b[1m0s\u001b[0m 13ms/step - loss: 3.4411e-06"
     ]
    },
    {
     "name": "stderr",
     "output_type": "stream",
     "text": [
      "WARNING:absl:You are saving your model as an HDF5 file via `model.save()` or `keras.saving.save_model(model)`. This file format is considered legacy. We recommend using instead the native Keras format, e.g. `model.save('my_model.keras')` or `keras.saving.save_model(model, 'my_model.keras')`. \n"
     ]
    },
    {
     "name": "stdout",
     "output_type": "stream",
     "text": [
      "\u001b[1m4846/4846\u001b[0m \u001b[32m━━━━━━━━━━━━━━━━━━━━\u001b[0m\u001b[37m\u001b[0m \u001b[1m68s\u001b[0m 14ms/step - loss: 3.4411e-06 - val_loss: 1.9736e-06 - learning_rate: 1.6000e-06\n",
      "Epoch 14/20\n",
      "\u001b[1m4846/4846\u001b[0m \u001b[32m━━━━━━━━━━━━━━━━━━━━\u001b[0m\u001b[37m\u001b[0m \u001b[1m79s\u001b[0m 16ms/step - loss: 3.5537e-06 - val_loss: 1.9891e-06 - learning_rate: 3.2000e-07\n",
      "Epoch 15/20\n",
      "\u001b[1m4842/4846\u001b[0m \u001b[32m━━━━━━━━━━━━━━━━━━━\u001b[0m\u001b[37m━\u001b[0m \u001b[1m0s\u001b[0m 15ms/step - loss: 3.3305e-06"
     ]
    },
    {
     "name": "stderr",
     "output_type": "stream",
     "text": [
      "WARNING:absl:You are saving your model as an HDF5 file via `model.save()` or `keras.saving.save_model(model)`. This file format is considered legacy. We recommend using instead the native Keras format, e.g. `model.save('my_model.keras')` or `keras.saving.save_model(model, 'my_model.keras')`. \n"
     ]
    },
    {
     "name": "stdout",
     "output_type": "stream",
     "text": [
      "\u001b[1m4846/4846\u001b[0m \u001b[32m━━━━━━━━━━━━━━━━━━━━\u001b[0m\u001b[37m\u001b[0m \u001b[1m75s\u001b[0m 15ms/step - loss: 3.3305e-06 - val_loss: 1.9714e-06 - learning_rate: 3.2000e-07\n",
      "Epoch 16/20\n",
      "\u001b[1m4846/4846\u001b[0m \u001b[32m━━━━━━━━━━━━━━━━━━━━\u001b[0m\u001b[37m\u001b[0m \u001b[1m0s\u001b[0m 13ms/step - loss: 3.2355e-06"
     ]
    },
    {
     "name": "stderr",
     "output_type": "stream",
     "text": [
      "WARNING:absl:You are saving your model as an HDF5 file via `model.save()` or `keras.saving.save_model(model)`. This file format is considered legacy. We recommend using instead the native Keras format, e.g. `model.save('my_model.keras')` or `keras.saving.save_model(model, 'my_model.keras')`. \n"
     ]
    },
    {
     "name": "stdout",
     "output_type": "stream",
     "text": [
      "\u001b[1m4846/4846\u001b[0m \u001b[32m━━━━━━━━━━━━━━━━━━━━\u001b[0m\u001b[37m\u001b[0m \u001b[1m65s\u001b[0m 13ms/step - loss: 3.2355e-06 - val_loss: 1.9698e-06 - learning_rate: 6.4000e-08\n",
      "Epoch 17/20\n",
      "\u001b[1m4846/4846\u001b[0m \u001b[32m━━━━━━━━━━━━━━━━━━━━\u001b[0m\u001b[37m\u001b[0m \u001b[1m67s\u001b[0m 14ms/step - loss: 3.2572e-06 - val_loss: 1.9728e-06 - learning_rate: 6.4000e-08\n",
      "Epoch 18/20\n",
      "\u001b[1m4846/4846\u001b[0m \u001b[32m━━━━━━━━━━━━━━━━━━━━\u001b[0m\u001b[37m\u001b[0m \u001b[1m65s\u001b[0m 13ms/step - loss: 3.1602e-06 - val_loss: 1.9711e-06 - learning_rate: 1.2800e-08\n",
      "Epoch 19/20\n",
      "\u001b[1m4846/4846\u001b[0m \u001b[32m━━━━━━━━━━━━━━━━━━━━\u001b[0m\u001b[37m\u001b[0m \u001b[1m46s\u001b[0m 10ms/step - loss: 3.3485e-06 - val_loss: 1.9703e-06 - learning_rate: 1.2800e-08\n",
      "Epoch 20/20\n",
      "\u001b[1m4846/4846\u001b[0m \u001b[32m━━━━━━━━━━━━━━━━━━━━\u001b[0m\u001b[37m\u001b[0m \u001b[1m46s\u001b[0m 9ms/step - loss: 3.2885e-06 - val_loss: 1.9703e-06 - learning_rate: 2.5600e-09\n"
     ]
    }
   ],
   "source": [
    "# model definition\n",
    "lstm_model = Sequential([\n",
    "    LSTM(50, return_sequences=True, input_shape=(look_back, len(features))),\n",
    "\n",
    "    LSTM(30),\n",
    "\n",
    "    Dense(1)\n",
    "])\n",
    "\n",
    "# This model is a CNN + LSTM model\n",
    "# We're not using it for now because it's not as good as the LSTM model\n",
    "\"\"\"model = Sequential([\n",
    "    Conv1D(filters=64, kernel_size=3, activation='relu', input_shape=(look_back, len(features))),\n",
    "    MaxPooling1D(pool_size=2),\n",
    "\n",
    "    LSTM(50, return_sequences=True),\n",
    "    \n",
    "    LSTM(30),\n",
    "\n",
    "    Dense(1)\n",
    "])\"\"\"\n",
    "\n",
    "# callbacks\n",
    "early_stopping = EarlyStopping(monitor='val_loss', patience=5)\n",
    "model_checkpoint = ModelCheckpoint('best_model_bourse.h5', monitor='val_loss', save_best_only=True)\n",
    "reduce_lr = ReduceLROnPlateau(monitor='val_loss', factor=0.2, patience=2)\n",
    "\n",
    "# validation set\n",
    "val_size = max(look_back, int(0.1 * len(X_train)))\n",
    "val_generator = TimeseriesGenerator(\n",
    "    X_train[-val_size:], y_train[-val_size:], length=look_back, batch_size=32\n",
    ")\n",
    "\n",
    "lstm_model.compile(optimizer='adam', loss='mean_squared_error')\n",
    "\n",
    "# training\n",
    "history = lstm_model.fit(train_generator, epochs=20, validation_data=val_generator, verbose=1, callbacks=[early_stopping, model_checkpoint, reduce_lr])"
   ]
  },
  {
   "cell_type": "code",
   "execution_count": 10,
   "id": "f04bdcee",
   "metadata": {},
   "outputs": [
    {
     "data": {
      "image/png": "[encoded data removed]",
      "text/plain": [
       "<Figure size 1000x600 with 2 Axes>"
      ]
     },
     "metadata": {},
     "output_type": "display_data"
    }
   ],
   "source": [
    "loss = history.history['loss']\n",
    "val_loss = history.history['val_loss']\n",
    "lr = history.history['learning_rate']\n",
    "epochs = range(1, len(loss) + 1)\n",
    "\n",
    "fig, ax1 = plt.subplots(figsize=(10, 6))\n",
    "\n",
    "ax1.plot(epochs, loss, label='Training Loss', color='tab:blue', linewidth=2)\n",
    "ax1.plot(epochs, val_loss, label='Validation Loss', color='tab:orange', linewidth=2, linestyle='--')\n",
    "ax1.set_xlabel('Epochs', fontsize=12)\n",
    "ax1.set_ylabel('Loss', fontsize=12)\n",
    "ax1.tick_params(axis='y')\n",
    "ax1.legend(loc='upper right')\n",
    "\n",
    "ax2 = ax1.twinx()\n",
    "ax2.plot(epochs, lr, label='Learning Rate', color='tab:green', linewidth=2, linestyle=':')\n",
    "ax2.set_ylabel('Learning Rate', fontsize=12)\n",
    "ax2.tick_params(axis='y', labelcolor='tab:green')\n",
    "\n",
    "plt.title('loss and learning rate evolution during training', fontsize=14)\n",
    "fig.tight_layout()\n",
    "plt.show()\n"
   ]
  },
  {
   "cell_type": "code",
   "execution_count": 11,
   "id": "e7caf5b8",
   "metadata": {},
   "outputs": [
    {
     "name": "stdout",
     "output_type": "stream",
     "text": [
      "\u001b[1m38746/38746\u001b[0m \u001b[32m━━━━━━━━━━━━━━━━━━━━\u001b[0m\u001b[37m\u001b[0m \u001b[1m94s\u001b[0m 2ms/step\n"
     ]
    }
   ],
   "source": [
    "# prediction\n",
    "predictions_scaled = lstm_model.predict(test_generator)\n",
    "predictions = scaler_y.inverse_transform(predictions_scaled)"
   ]
  },
  {
   "cell_type": "code",
   "execution_count": 12,
   "id": "751c376b",
   "metadata": {},
   "outputs": [
    {
     "data": {
      "image/png": "[encoded data removed]",
      "text/plain": [
       "<Figure size 1200x600 with 1 Axes>"
      ]
     },
     "metadata": {},
     "output_type": "display_data"
    }
   ],
   "source": [
    "# comparison with true series\n",
    "true_values = y[train_size + look_back:]\n",
    "\n",
    "plt.figure(figsize=(12,6))\n",
    "plt.plot(true_values, label='True Values')\n",
    "plt.plot(predictions, label='Predictions', alpha=0.7)\n",
    "plt.xlabel(\"Time\")\n",
    "plt.ylabel(\"Closing Price\")\n",
    "plt.legend()\n",
    "plt.show()"
   ]
  },
  {
   "cell_type": "code",
   "execution_count": 13,
   "id": "39f27b9d",
   "metadata": {},
   "outputs": [
    {
     "name": "stderr",
     "output_type": "stream",
     "text": [
      "WARNING:absl:You are saving your model as an HDF5 file via `model.save()` or `keras.saving.save_model(model)`. This file format is considered legacy. We recommend using instead the native Keras format, e.g. `model.save('my_model.keras')` or `keras.saving.save_model(model, 'my_model.keras')`. \n"
     ]
    }
   ],
   "source": [
    "# save model\n",
    "lstm_model.save(\"lstm_model.h5\")"
   ]
  },
  {
   "cell_type": "markdown",
   "id": "0a750f00",
   "metadata": {},
   "source": [
    "# Observations\n",
    "\n",
    "Le modèle suit de très près la tendance des prix.\n",
    "\n",
    "## Défis \n",
    "- Surentraînement -> Early Stopping\n",
    "- Convergence -> Réduction du learning rate\n",
    "\n",
    "## Améliorations\n",
    "- Mécanisme d'attention (CBAM)\n",
    "- Précéder le LSTM par un CNN chargé de détecter les tendances\n"
   ]
  },
  {
   "cell_type": "markdown",
   "id": "f1684e5f",
   "metadata": {},
   "source": [
    "# DQN"
   ]
  },
  {
   "cell_type": "code",
   "execution_count": 24,
   "id": "0a854c4d",
   "metadata": {},
   "outputs": [],
   "source": [
    "import numpy as np\n",
    "import pandas as pd\n",
    "from gym import Env\n",
    "from gym.spaces import Discrete, Box\n",
    "\n",
    "import random\n",
    "from collections import deque\n",
    "from tensorflow.keras.models import Sequential\n",
    "from tensorflow.keras.layers import Dense\n",
    "from tensorflow.keras.optimizers import Adam\n",
    "from tensorflow.keras.models import load_model\n",
    "import tensorflow as tf\n",
    "\n",
    "class TradingEnv(Env):\n",
    "    def __init__(self, data: pd.DataFrame, scaler_y: sklearn.preprocessing._data.MinMaxScaler, initial_balance=1_000_000):\n",
    "        \"\"\"\n",
    "        Initialize the trading environment.\n",
    "\n",
    "        Args:\n",
    "        - data (pd.DataFrame): Normalized stock data with columns ['Open', 'High', 'Low', 'Close', 'Volume'].\n",
    "        - scaler_y (MinMaxScaler): Fitted scaler used to normalize the 'Close' price.\n",
    "        - initial_balance (float): Starting balance for the agent.\n",
    "        \"\"\"\n",
    "        super(TradingEnv, self).__init__()\n",
    "\n",
    "        # Dataset and trading parameters\n",
    "        self.data = data.reset_index(drop=True)\n",
    "        self.scaler_y = scaler_y  # store scaler to invert Close values\n",
    "        self.initial_balance = initial_balance\n",
    "        self.current_step = 0\n",
    "        self.balance = initial_balance\n",
    "        self.shares_held = 0\n",
    "        self.net_worth = initial_balance\n",
    "        self.max_net_worth = initial_balance\n",
    "        self.done = False\n",
    "\n",
    "        # Action space: 0 = BUY, 1 = HOLD, 2 = SELL\n",
    "        self.action_space = Discrete(3)\n",
    "\n",
    "        # Observation space: [balance, shares held, net worth, price data...]\n",
    "        self.observation_space = Box(\n",
    "            low=-np.inf,\n",
    "            high=np.inf,\n",
    "            shape=(len(self.data.columns) + 3,),\n",
    "            dtype=np.float32,\n",
    "        )\n",
    "\n",
    "    def _get_real_close(self, scaled_close):\n",
    "        \"\"\"Inverse transform a normalized close price back to its real value.\"\"\"\n",
    "        return self.scaler_y.inverse_transform(np.array(scaled_close).reshape(-1, 1))[0, 0]\n",
    "\n",
    "    def _get_observation(self):\n",
    "        \"\"\"Create the observation vector (still normalized).\"\"\"\n",
    "        obs = np.array([\n",
    "            self.balance,\n",
    "            self.shares_held,\n",
    "            self.net_worth,\n",
    "            *self.data.iloc[self.current_step].values\n",
    "        ], dtype=np.float32)\n",
    "        return obs\n",
    "\n",
    "    def _take_action(self, action):\n",
    "        \"\"\"Execute trading logic (buy, sell, hold).\"\"\"\n",
    "        # Get the real (non-normalized) current close price\n",
    "        scaled_close = self.data.iloc[self.current_step]['close']\n",
    "        current_price = self._get_real_close(scaled_close)\n",
    "\n",
    "        if action == 0:  # BUY\n",
    "            shares_to_buy = int(self.balance // current_price)\n",
    "            if shares_to_buy > 0:\n",
    "                self.shares_held += shares_to_buy\n",
    "                self.balance -= shares_to_buy * current_price\n",
    "\n",
    "        elif action == 2:  # SELL\n",
    "            if self.shares_held > 0:\n",
    "                self.balance += self.shares_held * current_price\n",
    "                self.shares_held = 0\n",
    "\n",
    "        # 💰 Update net worth and track the max\n",
    "        self.net_worth = self.balance + self.shares_held * current_price\n",
    "        self.max_net_worth = max(getattr(self, 'max_net_worth', 0), self.net_worth)\n",
    "\n",
    "    def step(self, action):\n",
    "        \"\"\"Execute one step in the environment.\"\"\"\n",
    "        prev_net_worth = self.net_worth\n",
    "\n",
    "        # Take the chosen action\n",
    "        self._take_action(action)\n",
    "\n",
    "        # Move to next time step\n",
    "        self.current_step += 1\n",
    "        if self.current_step >= len(self.data) - 1:\n",
    "            self.done = True\n",
    "\n",
    "        # Reward is relative change in net worth\n",
    "        reward = (self.net_worth - prev_net_worth) / prev_net_worth\n",
    "\n",
    "        # Return observation, reward, done flag, and info\n",
    "        obs = self._get_observation()\n",
    "        return obs, reward, self.done, {}\n",
    "\n",
    "    def reset(self):\n",
    "        \"\"\"Reset environment to the initial state.\"\"\"\n",
    "        self.balance = self.initial_balance\n",
    "        self.shares_held = 0\n",
    "        self.net_worth = self.initial_balance\n",
    "        self.max_net_worth = self.initial_balance\n",
    "        self.current_step = 0\n",
    "        self.done = False\n",
    "        return self._get_observation()\n",
    "\n",
    "    def render(self, mode=\"human\"):\n",
    "        \"\"\"Display current state with *real* (unscaled) prices.\"\"\"\n",
    "        scaled_close = self.data.iloc[self.current_step]['close']\n",
    "        real_close = self._get_real_close(scaled_close)\n",
    "\n",
    "        print(f\"Step: {self.current_step}\")\n",
    "        print(f\"Balance: ${self.balance:,.2f}\")\n",
    "        print(f\"Shares Held: {self.shares_held}\")\n",
    "        print(f\"Net Worth: ${self.net_worth:,.2f}\")\n",
    "        print(f\"Max Net Worth: ${self.max_net_worth:,.2f}\")\n",
    "        print(f\"Current (Real) Price: ${real_close:,.2f}\\n\")"
   ]
  },
  {
   "cell_type": "code",
   "execution_count": 25,
   "id": "3589051f",
   "metadata": {},
   "outputs": [],
   "source": [
    "class DQNAgentLSTM:\n",
    "    def __init__(self, state_size, action_size, window_size=10):\n",
    "        self.state_size = state_size\n",
    "        self.action_size = action_size\n",
    "        self.window_size = window_size\n",
    "\n",
    "        # hyperparameters\n",
    "        self.gamma = 0.95 # to prefer future rewards\n",
    "        self.epsilon = 1.0 # exploration rate\n",
    "        self.epsilon_min = 0.01 # minimum exploration rate\n",
    "        self.epsilon_decay = 0.995 # exploration rate decay\n",
    "        self.learning_rate = 0.001 # learning rate\n",
    "        self.memory = deque(maxlen=2000)\n",
    "\n",
    "        # load LSTM model\n",
    "        self.lstm_model = load_model(\"lstm_model.h5\")\n",
    "\n",
    "        # build DQN model\n",
    "        self.model = self._build_dqn_model()\n",
    "        self.target_model = self._build_dqn_model()\n",
    "        self.update_target_model()\n",
    "\n",
    "    def _build_dqn_model(self):\n",
    "        \"\"\"\n",
    "        Build the DQN model\n",
    "        \"\"\"\n",
    "        model = Sequential()\n",
    "        model.add(Dense(64, activation='relu', input_dim=self.state_size + 1))  # last state + predicted_close\n",
    "        model.add(Dense(64, activation='relu'))\n",
    "        model.add(Dense(self.action_size, activation='linear'))\n",
    "        model.compile(loss='mse', optimizer='adam')\n",
    "        return model\n",
    "\n",
    "    def update_target_model(self):\n",
    "        \"\"\"\n",
    "        Update the target model\n",
    "        \"\"\"\n",
    "        self.target_model.set_weights(self.model.get_weights())\n",
    "\n",
    "    def save_model(self, filename):\n",
    "        \"\"\"\n",
    "        Save the model\n",
    "        \"\"\"\n",
    "        self.model.save(filename)\n",
    "\n",
    "    def remember(self, augmented_state, action, reward, next_augmented_state, done):\n",
    "        \"\"\"\n",
    "        Remember the experience\n",
    "        \"\"\"\n",
    "        self.memory.append((augmented_state, action, reward, next_augmented_state, done))\n",
    "\n",
    "    def act(self, augmented_state):\n",
    "        \"\"\"\n",
    "        Act based on the state\n",
    "        \"\"\"\n",
    "        if np.random.rand() <= self.epsilon:\n",
    "            return random.randrange(self.action_size) # do a random action\n",
    "\n",
    "        q_values = self.model.predict(augmented_state, verbose=0) # act by maximizing Q-value\n",
    "        return np.argmax(q_values[0])\n",
    "            \n",
    "    def replay(self, batch_size=32):\n",
    "        \"\"\"\n",
    "        Vectorized experience replay for faster training\n",
    "        \"\"\"\n",
    "\n",
    "        # skip training if not enough samples in memory\n",
    "        if len(self.memory) < batch_size:\n",
    "            return\n",
    "\n",
    "        # batch selection\n",
    "        minibatch = random.sample(self.memory, batch_size)\n",
    "\n",
    "        # vectorized decomposition\n",
    "        states = np.array([s[0] for s, _, _, _, _ in minibatch])\n",
    "        next_states = np.array([ns[0] for _, _, _, ns, _ in minibatch])\n",
    "        actions = np.array([a for _, a, _, _, _ in minibatch])\n",
    "        rewards = np.array([r for _, _, r, _, _ in minibatch])\n",
    "        dones = np.array([d for _, _, _, _, d in minibatch])\n",
    "\n",
    "        # predict current Q-values and next Q-values (from target model)\n",
    "        q_values = self.model.predict(states, verbose=0)\n",
    "        q_next = self.target_model.predict(next_states, verbose=0)\n",
    "\n",
    "        # vectorized target Q-value calculation\n",
    "        targets = q_values.copy()\n",
    "        max_next_q = np.amax(q_next, axis=1)\n",
    "        targets[np.arange(batch_size), actions] = rewards + (1 - dones) * self.gamma * max_next_q\n",
    "\n",
    "        # batch training on the target Q-values\n",
    "        self.model.fit(states, targets, batch_size=batch_size, verbose=0)\n",
    "\n",
    "        # epsilon decay\n",
    "        if self.epsilon > self.epsilon_min:\n",
    "            self.epsilon *= self.epsilon_decay\n"
   ]
  },
  {
   "cell_type": "code",
   "execution_count": 26,
   "id": "8b5ff3cc",
   "metadata": {},
   "outputs": [
    {
     "data": {
      "text/html": [
       "<div>\n",
       "<style scoped>\n",
       "    .dataframe tbody tr th:only-of-type {\n",
       "        vertical-align: middle;\n",
       "    }\n",
       "\n",
       "    .dataframe tbody tr th {\n",
       "        vertical-align: top;\n",
       "    }\n",
       "\n",
       "    .dataframe thead th {\n",
       "        text-align: right;\n",
       "    }\n",
       "</style>\n",
       "<table border=\"1\" class=\"dataframe\">\n",
       "  <thead>\n",
       "    <tr style=\"text-align: right;\">\n",
       "      <th></th>\n",
       "      <th>timestamp</th>\n",
       "      <th>open</th>\n",
       "      <th>high</th>\n",
       "      <th>low</th>\n",
       "      <th>close</th>\n",
       "      <th>volume</th>\n",
       "    </tr>\n",
       "  </thead>\n",
       "  <tbody>\n",
       "    <tr>\n",
       "      <th>0</th>\n",
       "      <td>2022-09-30 04:00:00</td>\n",
       "      <td>115.88</td>\n",
       "      <td>115.88</td>\n",
       "      <td>115.88</td>\n",
       "      <td>115.88</td>\n",
       "      <td>100</td>\n",
       "    </tr>\n",
       "    <tr>\n",
       "      <th>1</th>\n",
       "      <td>2022-09-30 04:01:00</td>\n",
       "      <td>116.05</td>\n",
       "      <td>116.05</td>\n",
       "      <td>116.05</td>\n",
       "      <td>116.05</td>\n",
       "      <td>454</td>\n",
       "    </tr>\n",
       "    <tr>\n",
       "      <th>2</th>\n",
       "      <td>2022-09-30 04:02:00</td>\n",
       "      <td>116.09</td>\n",
       "      <td>116.09</td>\n",
       "      <td>116.09</td>\n",
       "      <td>116.09</td>\n",
       "      <td>200</td>\n",
       "    </tr>\n",
       "    <tr>\n",
       "      <th>3</th>\n",
       "      <td>2022-09-30 04:03:00</td>\n",
       "      <td>115.94</td>\n",
       "      <td>115.94</td>\n",
       "      <td>115.94</td>\n",
       "      <td>115.94</td>\n",
       "      <td>804</td>\n",
       "    </tr>\n",
       "    <tr>\n",
       "      <th>4</th>\n",
       "      <td>2022-09-30 04:04:00</td>\n",
       "      <td>115.97</td>\n",
       "      <td>115.97</td>\n",
       "      <td>115.97</td>\n",
       "      <td>115.97</td>\n",
       "      <td>100</td>\n",
       "    </tr>\n",
       "  </tbody>\n",
       "</table>\n",
       "</div>"
      ],
      "text/plain": [
       "             timestamp    open    high     low   close  volume\n",
       "0  2022-09-30 04:00:00  115.88  115.88  115.88  115.88     100\n",
       "1  2022-09-30 04:01:00  116.05  116.05  116.05  116.05     454\n",
       "2  2022-09-30 04:02:00  116.09  116.09  116.09  116.09     200\n",
       "3  2022-09-30 04:03:00  115.94  115.94  115.94  115.94     804\n",
       "4  2022-09-30 04:04:00  115.97  115.97  115.97  115.97     100"
      ]
     },
     "execution_count": 26,
     "metadata": {},
     "output_type": "execute_result"
    }
   ],
   "source": [
    "df = pd.read_csv('AMZN/AMZN_1min_firstratedata.csv')\n",
    "df.head()\n"
   ]
  },
  {
   "cell_type": "code",
   "execution_count": 27,
   "id": "99b97367",
   "metadata": {},
   "outputs": [
    {
     "name": "stderr",
     "output_type": "stream",
     "text": [
      "c:\\Users\\abdal\\anaconda3\\envs\\titanic_env\\lib\\site-packages\\sklearn\\base.py:486: UserWarning: X has feature names, but MinMaxScaler was fitted without feature names\n",
      "  warnings.warn(\n",
      "c:\\Users\\abdal\\anaconda3\\envs\\titanic_env\\lib\\site-packages\\sklearn\\base.py:486: UserWarning: X has feature names, but MinMaxScaler was fitted without feature names\n",
      "  warnings.warn(\n"
     ]
    },
    {
     "data": {
      "text/html": [
       "<div>\n",
       "<style scoped>\n",
       "    .dataframe tbody tr th:only-of-type {\n",
       "        vertical-align: middle;\n",
       "    }\n",
       "\n",
       "    .dataframe tbody tr th {\n",
       "        vertical-align: top;\n",
       "    }\n",
       "\n",
       "    .dataframe thead th {\n",
       "        text-align: right;\n",
       "    }\n",
       "</style>\n",
       "<table border=\"1\" class=\"dataframe\">\n",
       "  <thead>\n",
       "    <tr style=\"text-align: right;\">\n",
       "      <th></th>\n",
       "      <th>open</th>\n",
       "      <th>high</th>\n",
       "      <th>low</th>\n",
       "      <th>close</th>\n",
       "      <th>volume</th>\n",
       "    </tr>\n",
       "  </thead>\n",
       "  <tbody>\n",
       "    <tr>\n",
       "      <th>0</th>\n",
       "      <td>-0.113088</td>\n",
       "      <td>-0.113139</td>\n",
       "      <td>-0.113468</td>\n",
       "      <td>-0.113090</td>\n",
       "      <td>0.000000</td>\n",
       "    </tr>\n",
       "    <tr>\n",
       "      <th>1</th>\n",
       "      <td>-0.110777</td>\n",
       "      <td>-0.110841</td>\n",
       "      <td>-0.111142</td>\n",
       "      <td>-0.110779</td>\n",
       "      <td>0.000007</td>\n",
       "    </tr>\n",
       "    <tr>\n",
       "      <th>2</th>\n",
       "      <td>-0.110234</td>\n",
       "      <td>-0.110300</td>\n",
       "      <td>-0.110594</td>\n",
       "      <td>-0.110235</td>\n",
       "      <td>0.000002</td>\n",
       "    </tr>\n",
       "    <tr>\n",
       "      <th>3</th>\n",
       "      <td>-0.112273</td>\n",
       "      <td>-0.112328</td>\n",
       "      <td>-0.112647</td>\n",
       "      <td>-0.112274</td>\n",
       "      <td>0.000014</td>\n",
       "    </tr>\n",
       "    <tr>\n",
       "      <th>4</th>\n",
       "      <td>-0.111865</td>\n",
       "      <td>-0.111922</td>\n",
       "      <td>-0.112237</td>\n",
       "      <td>-0.111866</td>\n",
       "      <td>0.000000</td>\n",
       "    </tr>\n",
       "    <tr>\n",
       "      <th>...</th>\n",
       "      <td>...</td>\n",
       "      <td>...</td>\n",
       "      <td>...</td>\n",
       "      <td>...</td>\n",
       "      <td>...</td>\n",
       "    </tr>\n",
       "    <tr>\n",
       "      <th>193614</th>\n",
       "      <td>0.037243</td>\n",
       "      <td>0.036632</td>\n",
       "      <td>0.037914</td>\n",
       "      <td>0.037515</td>\n",
       "      <td>0.000006</td>\n",
       "    </tr>\n",
       "    <tr>\n",
       "      <th>193615</th>\n",
       "      <td>0.038059</td>\n",
       "      <td>0.037172</td>\n",
       "      <td>0.038735</td>\n",
       "      <td>0.038059</td>\n",
       "      <td>0.000000</td>\n",
       "    </tr>\n",
       "    <tr>\n",
       "      <th>193616</th>\n",
       "      <td>0.037787</td>\n",
       "      <td>0.036902</td>\n",
       "      <td>0.038462</td>\n",
       "      <td>0.037787</td>\n",
       "      <td>0.000000</td>\n",
       "    </tr>\n",
       "    <tr>\n",
       "      <th>193617</th>\n",
       "      <td>0.037787</td>\n",
       "      <td>0.037172</td>\n",
       "      <td>0.038462</td>\n",
       "      <td>0.038059</td>\n",
       "      <td>0.000015</td>\n",
       "    </tr>\n",
       "    <tr>\n",
       "      <th>193618</th>\n",
       "      <td>0.038466</td>\n",
       "      <td>0.038524</td>\n",
       "      <td>0.039146</td>\n",
       "      <td>0.039418</td>\n",
       "      <td>0.000025</td>\n",
       "    </tr>\n",
       "  </tbody>\n",
       "</table>\n",
       "<p>193619 rows × 5 columns</p>\n",
       "</div>"
      ],
      "text/plain": [
       "            open      high       low     close    volume\n",
       "0      -0.113088 -0.113139 -0.113468 -0.113090  0.000000\n",
       "1      -0.110777 -0.110841 -0.111142 -0.110779  0.000007\n",
       "2      -0.110234 -0.110300 -0.110594 -0.110235  0.000002\n",
       "3      -0.112273 -0.112328 -0.112647 -0.112274  0.000014\n",
       "4      -0.111865 -0.111922 -0.112237 -0.111866  0.000000\n",
       "...          ...       ...       ...       ...       ...\n",
       "193614  0.037243  0.036632  0.037914  0.037515  0.000006\n",
       "193615  0.038059  0.037172  0.038735  0.038059  0.000000\n",
       "193616  0.037787  0.036902  0.038462  0.037787  0.000000\n",
       "193617  0.037787  0.037172  0.038462  0.038059  0.000015\n",
       "193618  0.038466  0.038524  0.039146  0.039418  0.000025\n",
       "\n",
       "[193619 rows x 5 columns]"
      ]
     },
     "execution_count": 27,
     "metadata": {},
     "output_type": "execute_result"
    }
   ],
   "source": [
    "# Load saved scalers\n",
    "scaler_X = joblib.load('scaler_X.pkl')  # trained on ['Open', 'High', 'Low', 'Volume']\n",
    "scaler_y = joblib.load('scaler_y.pkl')  # trained on ['Close']\n",
    "\n",
    "# Normalize Close column using scaler_y\n",
    "df[['close']] = scaler_y.transform(df[['close']])\n",
    "\n",
    "# Normalize all X features at once using scaler_X\n",
    "df[['open', 'high', 'low', 'volume']] = scaler_X.transform(\n",
    "    df[['open', 'high', 'low', 'volume']]\n",
    ")\n",
    "\n",
    "# remove 'timestamp'\n",
    "df = df.drop(columns=['timestamp'])\n",
    "\n",
    "df\n"
   ]
  },
  {
   "cell_type": "code",
   "execution_count": 29,
   "id": "c93852f3",
   "metadata": {},
   "outputs": [
    {
     "name": "stderr",
     "output_type": "stream",
     "text": [
      "WARNING:absl:Compiled the loaded model, but the compiled metrics have yet to be built. `model.compile_metrics` will be empty until you train or evaluate the model.\n"
     ]
    },
    {
     "name": "stderr",
     "output_type": "stream",
     "text": [
      "c:\\Users\\abdal\\anaconda3\\envs\\titanic_env\\lib\\site-packages\\keras\\src\\layers\\core\\dense.py:87: UserWarning: Do not pass an `input_shape`/`input_dim` argument to a layer. When using Sequential models, prefer using an `Input(shape)` object as the first layer in the model instead.\n",
      "  super().__init__(activity_regularizer=activity_regularizer, **kwargs)\n"
     ]
    },
    {
     "name": "stdout",
     "output_type": "stream",
     "text": [
      "Step: 10\n",
      "Balance: $10,001.72\n",
      "Shares Held: 0\n",
      "Net Worth: $10,001.72\n",
      "Max Net Worth: $10,018.06\n",
      "Current (Real) Price: $115.96\n",
      "\n",
      "Step: 20\n",
      "Balance: $43.78\n",
      "Shares Held: 86\n",
      "Net Worth: $10,018.06\n",
      "Max Net Worth: $10,018.06\n",
      "Current (Real) Price: $116.08\n",
      "\n",
      "Step: 30\n",
      "Balance: $51.52\n",
      "Shares Held: 86\n",
      "Net Worth: $9,959.58\n",
      "Max Net Worth: $10,026.66\n",
      "Current (Real) Price: $115.39\n",
      "\n",
      "Step: 40\n",
      "Balance: $41.20\n",
      "Shares Held: 86\n",
      "Net Worth: $9,982.80\n",
      "Max Net Worth: $10,026.66\n",
      "Current (Real) Price: $115.75\n",
      "\n",
      "Step: 50\n",
      "Balance: $81.62\n",
      "Shares Held: 86\n",
      "Net Worth: $9,971.62\n",
      "Max Net Worth: $10,026.66\n",
      "Current (Real) Price: $115.00\n",
      "\n",
      "Step: 60\n",
      "Balance: $9,970.76\n",
      "Shares Held: 0\n",
      "Net Worth: $9,970.76\n",
      "Max Net Worth: $10,026.66\n",
      "Current (Real) Price: $114.75\n",
      "\n",
      "Step: 70\n",
      "Balance: $100.54\n",
      "Shares Held: 86\n",
      "Net Worth: $9,977.64\n",
      "Max Net Worth: $10,026.66\n",
      "Current (Real) Price: $114.95\n",
      "\n"
     ]
    },
    {
     "ename": "KeyboardInterrupt",
     "evalue": "",
     "output_type": "error",
     "traceback": [
      "\u001b[1;31m---------------------------------------------------------------------------\u001b[0m",
      "\u001b[1;31mKeyboardInterrupt\u001b[0m                         Traceback (most recent call last)",
      "Cell \u001b[1;32mIn[29], line 63\u001b[0m\n\u001b[0;32m     61\u001b[0m \u001b[38;5;66;03m# predict the next close price to build the next augmented state\u001b[39;00m\n\u001b[0;32m     62\u001b[0m next_lstm_input \u001b[38;5;241m=\u001b[39m next_state_seq[:, :, [\u001b[38;5;241m0\u001b[39m, \u001b[38;5;241m1\u001b[39m, \u001b[38;5;241m2\u001b[39m, \u001b[38;5;241m4\u001b[39m]]\n\u001b[1;32m---> 63\u001b[0m next_predicted_close \u001b[38;5;241m=\u001b[39m \u001b[43magent\u001b[49m\u001b[38;5;241;43m.\u001b[39;49m\u001b[43mlstm_model\u001b[49m\u001b[38;5;241;43m.\u001b[39;49m\u001b[43mpredict\u001b[49m\u001b[43m(\u001b[49m\u001b[43mnext_lstm_input\u001b[49m\u001b[43m,\u001b[49m\u001b[43m \u001b[49m\u001b[43mverbose\u001b[49m\u001b[38;5;241;43m=\u001b[39;49m\u001b[38;5;241;43m0\u001b[39;49m\u001b[43m)\u001b[49m\u001b[38;5;241m.\u001b[39mflatten()\n\u001b[0;32m     64\u001b[0m next_last_state \u001b[38;5;241m=\u001b[39m next_state_seq[:, \u001b[38;5;241m-\u001b[39m\u001b[38;5;241m1\u001b[39m, :]\n\u001b[0;32m     65\u001b[0m next_augmented_state \u001b[38;5;241m=\u001b[39m np\u001b[38;5;241m.\u001b[39mconcatenate([next_last_state, next_predicted_close\u001b[38;5;241m.\u001b[39mreshape(\u001b[38;5;241m1\u001b[39m, \u001b[38;5;241m-\u001b[39m\u001b[38;5;241m1\u001b[39m)], axis\u001b[38;5;241m=\u001b[39m\u001b[38;5;241m1\u001b[39m)\n",
      "File \u001b[1;32mc:\\Users\\abdal\\anaconda3\\envs\\titanic_env\\lib\\site-packages\\keras\\src\\utils\\traceback_utils.py:117\u001b[0m, in \u001b[0;36mfilter_traceback.<locals>.error_handler\u001b[1;34m(*args, **kwargs)\u001b[0m\n\u001b[0;32m    115\u001b[0m filtered_tb \u001b[38;5;241m=\u001b[39m \u001b[38;5;28;01mNone\u001b[39;00m\n\u001b[0;32m    116\u001b[0m \u001b[38;5;28;01mtry\u001b[39;00m:\n\u001b[1;32m--> 117\u001b[0m     \u001b[38;5;28;01mreturn\u001b[39;00m fn(\u001b[38;5;241m*\u001b[39margs, \u001b[38;5;241m*\u001b[39m\u001b[38;5;241m*\u001b[39mkwargs)\n\u001b[0;32m    118\u001b[0m \u001b[38;5;28;01mexcept\u001b[39;00m \u001b[38;5;167;01mException\u001b[39;00m \u001b[38;5;28;01mas\u001b[39;00m e:\n\u001b[0;32m    119\u001b[0m     filtered_tb \u001b[38;5;241m=\u001b[39m _process_traceback_frames(e\u001b[38;5;241m.\u001b[39m__traceback__)\n",
      "File \u001b[1;32mc:\\Users\\abdal\\anaconda3\\envs\\titanic_env\\lib\\site-packages\\keras\\src\\backend\\tensorflow\\trainer.py:559\u001b[0m, in \u001b[0;36mTensorFlowTrainer.predict\u001b[1;34m(self, x, batch_size, verbose, steps, callbacks)\u001b[0m\n\u001b[0;32m    557\u001b[0m outputs \u001b[38;5;241m=\u001b[39m \u001b[38;5;28;01mNone\u001b[39;00m\n\u001b[0;32m    558\u001b[0m \u001b[38;5;28;01mwith\u001b[39;00m epoch_iterator\u001b[38;5;241m.\u001b[39mcatch_stop_iteration():\n\u001b[1;32m--> 559\u001b[0m     \u001b[38;5;28;01mfor\u001b[39;00m step, iterator \u001b[38;5;129;01min\u001b[39;00m epoch_iterator:\n\u001b[0;32m    560\u001b[0m         callbacks\u001b[38;5;241m.\u001b[39mon_predict_batch_begin(step)\n\u001b[0;32m    561\u001b[0m         data \u001b[38;5;241m=\u001b[39m get_data(iterator)\n",
      "File \u001b[1;32mc:\\Users\\abdal\\anaconda3\\envs\\titanic_env\\lib\\site-packages\\keras\\src\\backend\\tensorflow\\trainer.py:736\u001b[0m, in \u001b[0;36mTFEpochIterator.__next__\u001b[1;34m(self)\u001b[0m\n\u001b[0;32m    735\u001b[0m \u001b[38;5;28;01mdef\u001b[39;00m\u001b[38;5;250m \u001b[39m\u001b[38;5;21m__next__\u001b[39m(\u001b[38;5;28mself\u001b[39m):\n\u001b[1;32m--> 736\u001b[0m     \u001b[38;5;28;01mreturn\u001b[39;00m \u001b[38;5;28;43mnext\u001b[39;49m\u001b[43m(\u001b[49m\u001b[38;5;28;43mself\u001b[39;49m\u001b[38;5;241;43m.\u001b[39;49m\u001b[43m_epoch_iterator\u001b[49m\u001b[43m)\u001b[49m\n",
      "File \u001b[1;32mc:\\Users\\abdal\\anaconda3\\envs\\titanic_env\\lib\\site-packages\\keras\\src\\trainers\\epoch_iterator.py:102\u001b[0m, in \u001b[0;36mEpochIterator._enumerate_iterator\u001b[1;34m(self)\u001b[0m\n\u001b[0;32m    100\u001b[0m \u001b[38;5;28;01mif\u001b[39;00m steps_per_epoch \u001b[38;5;241m>\u001b[39m \u001b[38;5;241m0\u001b[39m:\n\u001b[0;32m    101\u001b[0m     \u001b[38;5;28;01mif\u001b[39;00m \u001b[38;5;28mself\u001b[39m\u001b[38;5;241m.\u001b[39m_current_iterator \u001b[38;5;129;01mis\u001b[39;00m \u001b[38;5;28;01mNone\u001b[39;00m \u001b[38;5;129;01mor\u001b[39;00m \u001b[38;5;28mself\u001b[39m\u001b[38;5;241m.\u001b[39msteps_per_epoch \u001b[38;5;129;01mis\u001b[39;00m \u001b[38;5;28;01mNone\u001b[39;00m:\n\u001b[1;32m--> 102\u001b[0m         \u001b[38;5;28mself\u001b[39m\u001b[38;5;241m.\u001b[39m_current_iterator \u001b[38;5;241m=\u001b[39m \u001b[38;5;28;43miter\u001b[39;49m\u001b[43m(\u001b[49m\u001b[38;5;28;43mself\u001b[39;49m\u001b[38;5;241;43m.\u001b[39;49m\u001b[43m_get_iterator\u001b[49m\u001b[43m(\u001b[49m\u001b[43m)\u001b[49m\u001b[43m)\u001b[49m\n\u001b[0;32m    103\u001b[0m         \u001b[38;5;28mself\u001b[39m\u001b[38;5;241m.\u001b[39m_steps_seen \u001b[38;5;241m=\u001b[39m \u001b[38;5;241m0\u001b[39m\n\u001b[0;32m    104\u001b[0m     \u001b[38;5;28;01mfor\u001b[39;00m step \u001b[38;5;129;01min\u001b[39;00m \u001b[38;5;28mrange\u001b[39m(\u001b[38;5;241m0\u001b[39m, steps_per_epoch, \u001b[38;5;28mself\u001b[39m\u001b[38;5;241m.\u001b[39msteps_per_execution):\n",
      "File \u001b[1;32mc:\\Users\\abdal\\anaconda3\\envs\\titanic_env\\lib\\site-packages\\tensorflow\\python\\data\\ops\\dataset_ops.py:501\u001b[0m, in \u001b[0;36mDatasetV2.__iter__\u001b[1;34m(self)\u001b[0m\n\u001b[0;32m    499\u001b[0m \u001b[38;5;28;01mif\u001b[39;00m context\u001b[38;5;241m.\u001b[39mexecuting_eagerly() \u001b[38;5;129;01mor\u001b[39;00m ops\u001b[38;5;241m.\u001b[39minside_function():\n\u001b[0;32m    500\u001b[0m   \u001b[38;5;28;01mwith\u001b[39;00m ops\u001b[38;5;241m.\u001b[39mcolocate_with(\u001b[38;5;28mself\u001b[39m\u001b[38;5;241m.\u001b[39m_variant_tensor):\n\u001b[1;32m--> 501\u001b[0m     \u001b[38;5;28;01mreturn\u001b[39;00m \u001b[43miterator_ops\u001b[49m\u001b[38;5;241;43m.\u001b[39;49m\u001b[43mOwnedIterator\u001b[49m\u001b[43m(\u001b[49m\u001b[38;5;28;43mself\u001b[39;49m\u001b[43m)\u001b[49m\n\u001b[0;32m    502\u001b[0m \u001b[38;5;28;01melse\u001b[39;00m:\n\u001b[0;32m    503\u001b[0m   \u001b[38;5;28;01mraise\u001b[39;00m \u001b[38;5;167;01mRuntimeError\u001b[39;00m(\u001b[38;5;124m\"\u001b[39m\u001b[38;5;124m`tf.data.Dataset` only supports Python-style \u001b[39m\u001b[38;5;124m\"\u001b[39m\n\u001b[0;32m    504\u001b[0m                      \u001b[38;5;124m\"\u001b[39m\u001b[38;5;124miteration in eager mode or within tf.function.\u001b[39m\u001b[38;5;124m\"\u001b[39m)\n",
      "File \u001b[1;32mc:\\Users\\abdal\\anaconda3\\envs\\titanic_env\\lib\\site-packages\\tensorflow\\python\\data\\ops\\iterator_ops.py:709\u001b[0m, in \u001b[0;36mOwnedIterator.__init__\u001b[1;34m(self, dataset, components, element_spec)\u001b[0m\n\u001b[0;32m    705\u001b[0m   \u001b[38;5;28;01mif\u001b[39;00m (components \u001b[38;5;129;01mis\u001b[39;00m \u001b[38;5;129;01mnot\u001b[39;00m \u001b[38;5;28;01mNone\u001b[39;00m \u001b[38;5;129;01mor\u001b[39;00m element_spec \u001b[38;5;129;01mis\u001b[39;00m \u001b[38;5;129;01mnot\u001b[39;00m \u001b[38;5;28;01mNone\u001b[39;00m):\n\u001b[0;32m    706\u001b[0m     \u001b[38;5;28;01mraise\u001b[39;00m \u001b[38;5;167;01mValueError\u001b[39;00m(\n\u001b[0;32m    707\u001b[0m         \u001b[38;5;124m\"\u001b[39m\u001b[38;5;124mWhen `dataset` is provided, `element_spec` and `components` must \u001b[39m\u001b[38;5;124m\"\u001b[39m\n\u001b[0;32m    708\u001b[0m         \u001b[38;5;124m\"\u001b[39m\u001b[38;5;124mnot be specified.\u001b[39m\u001b[38;5;124m\"\u001b[39m)\n\u001b[1;32m--> 709\u001b[0m   \u001b[38;5;28;43mself\u001b[39;49m\u001b[38;5;241;43m.\u001b[39;49m\u001b[43m_create_iterator\u001b[49m\u001b[43m(\u001b[49m\u001b[43mdataset\u001b[49m\u001b[43m)\u001b[49m\n\u001b[0;32m    711\u001b[0m \u001b[38;5;28mself\u001b[39m\u001b[38;5;241m.\u001b[39m_get_next_call_count \u001b[38;5;241m=\u001b[39m \u001b[38;5;241m0\u001b[39m\n",
      "File \u001b[1;32mc:\\Users\\abdal\\anaconda3\\envs\\titanic_env\\lib\\site-packages\\tensorflow\\python\\data\\ops\\iterator_ops.py:748\u001b[0m, in \u001b[0;36mOwnedIterator._create_iterator\u001b[1;34m(self, dataset)\u001b[0m\n\u001b[0;32m    745\u001b[0m   \u001b[38;5;28;01massert\u001b[39;00m \u001b[38;5;28mlen\u001b[39m(fulltype\u001b[38;5;241m.\u001b[39margs[\u001b[38;5;241m0\u001b[39m]\u001b[38;5;241m.\u001b[39margs[\u001b[38;5;241m0\u001b[39m]\u001b[38;5;241m.\u001b[39margs) \u001b[38;5;241m==\u001b[39m \u001b[38;5;28mlen\u001b[39m(\n\u001b[0;32m    746\u001b[0m       \u001b[38;5;28mself\u001b[39m\u001b[38;5;241m.\u001b[39m_flat_output_types)\n\u001b[0;32m    747\u001b[0m   \u001b[38;5;28mself\u001b[39m\u001b[38;5;241m.\u001b[39m_iterator_resource\u001b[38;5;241m.\u001b[39mop\u001b[38;5;241m.\u001b[39mexperimental_set_type(fulltype)\n\u001b[1;32m--> 748\u001b[0m \u001b[43mgen_dataset_ops\u001b[49m\u001b[38;5;241;43m.\u001b[39;49m\u001b[43mmake_iterator\u001b[49m\u001b[43m(\u001b[49m\u001b[43mds_variant\u001b[49m\u001b[43m,\u001b[49m\u001b[43m \u001b[49m\u001b[38;5;28;43mself\u001b[39;49m\u001b[38;5;241;43m.\u001b[39;49m\u001b[43m_iterator_resource\u001b[49m\u001b[43m)\u001b[49m\n",
      "File \u001b[1;32mc:\\Users\\abdal\\anaconda3\\envs\\titanic_env\\lib\\site-packages\\tensorflow\\python\\ops\\gen_dataset_ops.py:3509\u001b[0m, in \u001b[0;36mmake_iterator\u001b[1;34m(dataset, iterator, name)\u001b[0m\n\u001b[0;32m   3507\u001b[0m \u001b[38;5;28;01mif\u001b[39;00m tld\u001b[38;5;241m.\u001b[39mis_eager:\n\u001b[0;32m   3508\u001b[0m   \u001b[38;5;28;01mtry\u001b[39;00m:\n\u001b[1;32m-> 3509\u001b[0m     _result \u001b[38;5;241m=\u001b[39m \u001b[43mpywrap_tfe\u001b[49m\u001b[38;5;241;43m.\u001b[39;49m\u001b[43mTFE_Py_FastPathExecute\u001b[49m\u001b[43m(\u001b[49m\n\u001b[0;32m   3510\u001b[0m \u001b[43m      \u001b[49m\u001b[43m_ctx\u001b[49m\u001b[43m,\u001b[49m\u001b[43m \u001b[49m\u001b[38;5;124;43m\"\u001b[39;49m\u001b[38;5;124;43mMakeIterator\u001b[39;49m\u001b[38;5;124;43m\"\u001b[39;49m\u001b[43m,\u001b[49m\u001b[43m \u001b[49m\u001b[43mname\u001b[49m\u001b[43m,\u001b[49m\u001b[43m \u001b[49m\u001b[43mdataset\u001b[49m\u001b[43m,\u001b[49m\u001b[43m \u001b[49m\u001b[43miterator\u001b[49m\u001b[43m)\u001b[49m\n\u001b[0;32m   3511\u001b[0m     \u001b[38;5;28;01mreturn\u001b[39;00m _result\n\u001b[0;32m   3512\u001b[0m   \u001b[38;5;28;01mexcept\u001b[39;00m _core\u001b[38;5;241m.\u001b[39m_NotOkStatusException \u001b[38;5;28;01mas\u001b[39;00m e:\n",
      "\u001b[1;31mKeyboardInterrupt\u001b[0m: "
     ]
    }
   ],
   "source": [
    "from collections import deque\n",
    "\n",
    "env = TradingEnv(data=df, scaler_y=scaler_y, initial_balance=10_000)\n",
    "\n",
    "state_size = env.observation_space.shape[0]\n",
    "action_size = env.action_space.n\n",
    "window_size = 10 # the number of previous steps for LSTM\n",
    "\n",
    "agent = DQNAgentLSTM(state_size, action_size, window_size)\n",
    "\n",
    "# uncomment to load a saved model\n",
    "# agent.model.load_weights(\"dqn_model_7.h5\")\n",
    "# agent.update_target_model()\n",
    "\n",
    "episodes = 10\n",
    "batch_size = 32\n",
    "\n",
    "for e in range(episodes):\n",
    "    state = env.reset()\n",
    "    state_history = deque(maxlen=window_size)\n",
    "    state_history.append(state)\n",
    "    done = False\n",
    "    total_reward = 0\n",
    "\n",
    "    while not done:\n",
    "        # build a sequence of past observations for the LSTM\n",
    "        if len(state_history) < window_size:\n",
    "            # pad with the first state if we don't yet have enough history\n",
    "            padded = [state_history[0]] * (window_size - len(state_history)) + list(state_history)\n",
    "        else:\n",
    "            padded = list(state_history)\n",
    "        state_seq = np.array(padded).reshape(1, window_size, state_size)\n",
    "\n",
    "        # use lstm to predict the next close price based on the features ['Open', 'High', 'Low', 'Volume']\n",
    "        lstm_input = state_seq[:, :, [0, 1, 2, 4]]\n",
    "        predicted_close = agent.lstm_model.predict(lstm_input, verbose=0).flatten()  # shape (1,)\n",
    "\n",
    "        # build the augmented state (last_state + predicted_close)\n",
    "        # take the most recent state\n",
    "        last_state = state_seq[:, -1, :]  # shape (1, state_size)\n",
    "        augmented_state = np.concatenate([last_state, predicted_close.reshape(1, -1)], axis=1)  # shape (1, state_size+1)\n",
    "\n",
    "        # dqn choose action\n",
    "        action = agent.act(augmented_state)\n",
    "\n",
    "        # perform action in environment and get the result\n",
    "        next_state, reward, done, _ = env.step(action)\n",
    "        state_history.append(next_state)\n",
    "        \n",
    "        # render the environment every 10 steps\n",
    "        if env.current_step % 10 == 0:\n",
    "            env.render()\n",
    "\n",
    "        # prepare the next sequence for the next LSTM prediction\n",
    "        if len(state_history) < window_size:\n",
    "            next_padded = [state_history[0]] * (window_size - len(state_history)) + list(state_history)\n",
    "        else:\n",
    "            next_padded = list(state_history)\n",
    "        next_state_seq = np.array(next_padded).reshape(1, window_size, state_size)\n",
    "\n",
    "        # predict the next close price to build the next augmented state\n",
    "        next_lstm_input = next_state_seq[:, :, [0, 1, 2, 4]]\n",
    "        next_predicted_close = agent.lstm_model.predict(next_lstm_input, verbose=0).flatten()\n",
    "        next_last_state = next_state_seq[:, -1, :]\n",
    "        next_augmented_state = np.concatenate([next_last_state, next_predicted_close.reshape(1, -1)], axis=1)\n",
    "\n",
    "        # store experience and train\n",
    "        agent.remember(augmented_state, action, reward, next_augmented_state, done)\n",
    "        agent.replay(batch_size)\n",
    "\n",
    "        total_reward += reward\n",
    "\n",
    "        # update target model and save\n",
    "        if done:\n",
    "            agent.update_target_model()\n",
    "            agent.save_model(f\"dqn_model_{e}.h5\")\n",
    "            print(f\"Épisode {e+1}/{episodes} — Net Worth: {env.net_worth:.2f}, \"\n",
    "                  f\"Total Reward: {total_reward:.2f}, Epsilon: {agent.epsilon:.2f}\\n\")"
   ]
  },
  {
   "cell_type": "code",
   "execution_count": null,
   "id": "2cddeeb2",
   "metadata": {},
   "outputs": [],
   "source": []
  },
  {
   "cell_type": "code",
   "execution_count": null,
   "id": "06031aad",
   "metadata": {},
   "outputs": [],
   "source": []
  }
 ],
 "metadata": {
  "kernelspec": {
   "display_name": "titanic_env",
   "language": "python",
   "name": "python3"
  },
  "language_info": {
   "codemirror_mode": {
    "name": "ipython",
    "version": 3
   },
   "file_extension": ".py",
   "mimetype": "text/x-python",
   "name": "python",
   "nbconvert_exporter": "python",
   "pygments_lexer": "ipython3",
   "version": "3.9.20"
  }
 },
 "nbformat": 4,
 "nbformat_minor": 5
}
